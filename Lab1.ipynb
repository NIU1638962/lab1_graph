{
 "cells": [
  {
   "cell_type": "code",
   "execution_count": 1,
   "metadata": {},
   "outputs": [
    {
     "ename": "FileNotFoundError",
     "evalue": "[Errno 2] No such file or directory: 'lastfm_asia_edges.csv'",
     "output_type": "error",
     "traceback": [
      "\u001b[1;31m---------------------------------------------------------------------------\u001b[0m",
      "\u001b[1;31mFileNotFoundError\u001b[0m                         Traceback (most recent call last)",
      "\u001b[1;32m~\\AppData\\Local\\Temp/ipykernel_26124/2215546853.py\u001b[0m in \u001b[0;36m<module>\u001b[1;34m\u001b[0m\n\u001b[0;32m     16\u001b[0m \u001b[1;33m\u001b[0m\u001b[0m\n\u001b[0;32m     17\u001b[0m \u001b[1;33m\u001b[0m\u001b[0m\n\u001b[1;32m---> 18\u001b[1;33m \u001b[0mG\u001b[0m \u001b[1;33m=\u001b[0m \u001b[0mbuild_lastfm_graph\u001b[0m\u001b[1;33m(\u001b[0m\u001b[1;33m)\u001b[0m\u001b[1;33m\u001b[0m\u001b[1;33m\u001b[0m\u001b[0m\n\u001b[0m",
      "\u001b[1;32m~\\AppData\\Local\\Temp/ipykernel_26124/2215546853.py\u001b[0m in \u001b[0;36mbuild_lastfm_graph\u001b[1;34m(filename)\u001b[0m\n\u001b[0;32m      5\u001b[0m \u001b[1;33m\u001b[0m\u001b[0m\n\u001b[0;32m      6\u001b[0m \u001b[1;32mdef\u001b[0m \u001b[0mbuild_lastfm_graph\u001b[0m\u001b[1;33m(\u001b[0m\u001b[0mfilename\u001b[0m\u001b[1;33m=\u001b[0m\u001b[1;34m'lastfm_asia_edges.csv'\u001b[0m\u001b[1;33m)\u001b[0m\u001b[1;33m:\u001b[0m\u001b[1;33m\u001b[0m\u001b[1;33m\u001b[0m\u001b[0m\n\u001b[1;32m----> 7\u001b[1;33m     \u001b[0mf\u001b[0m \u001b[1;33m=\u001b[0m \u001b[0mopen\u001b[0m\u001b[1;33m(\u001b[0m\u001b[0mfilename\u001b[0m\u001b[1;33m,\u001b[0m \u001b[1;34m'r'\u001b[0m\u001b[1;33m)\u001b[0m\u001b[1;33m\u001b[0m\u001b[1;33m\u001b[0m\u001b[0m\n\u001b[0m\u001b[0;32m      8\u001b[0m     \u001b[0mG\u001b[0m \u001b[1;33m=\u001b[0m \u001b[0mnx\u001b[0m\u001b[1;33m.\u001b[0m\u001b[0mGraph\u001b[0m\u001b[1;33m(\u001b[0m\u001b[1;33m)\u001b[0m\u001b[1;33m\u001b[0m\u001b[1;33m\u001b[0m\u001b[0m\n\u001b[0;32m      9\u001b[0m \u001b[1;33m\u001b[0m\u001b[0m\n",
      "\u001b[1;31mFileNotFoundError\u001b[0m: [Errno 2] No such file or directory: 'lastfm_asia_edges.csv'"
     ]
    }
   ],
   "source": [
    "import networkx as nx\n",
    "import matplotlib.pyplot as plt\n",
    "import numpy as np\n",
    "\n",
    "\n",
    "def build_lastfm_graph(filename='lastfm_asia_edges.csv'):\n",
    "    f = open(filename, 'r')\n",
    "    G = nx.Graph()\n",
    "\n",
    "    for line in f.read().split():\n",
    "        if 'node' not in line:\n",
    "            a, b = line.split(',')\n",
    "            G.add_edge(int(a), int(b))\n",
    "\n",
    "    return G\n",
    "\n",
    "\n",
    "G = build_lastfm_graph()"
   ]
  },
  {
   "cell_type": "code",
   "execution_count": 2,
   "metadata": {},
   "outputs": [],
   "source": [
    "testgraph1 = [(1,2),(2,3),(3,5),(3,7),(4,6)]\n",
    "testgraph2 = [(1,2),(2,3),(3,5),(5,7),(1,6)]\n",
    "\n",
    "test_graph1 = nx.Graph()\n",
    "test_graph1.add_edges_from(testgraph1)\n",
    "\n",
    "test_graph2 = nx.Graph()\n",
    "test_graph2.add_edges_from(testgraph2)\n"
   ]
  },
  {
   "cell_type": "code",
   "execution_count": 3,
   "metadata": {},
   "outputs": [],
   "source": [
    "def how_many_components_BFS(G):\n",
    "    component_list = []\n",
    "    graph = list(G.nodes())\n",
    "\n",
    "    while graph:\n",
    "        queue = [graph[0]]\n",
    "        visited = [graph[0]]\n",
    "        while queue:\n",
    "            current = queue.pop(0)\n",
    "            neighbors = G.neighbors(current)\n",
    "            graph.remove(current)\n",
    "\n",
    "            for i in neighbors:\n",
    "                if i not in visited:\n",
    "                    visited.append(i)\n",
    "                    queue.append(i)\n",
    "\n",
    "        component_list.append(visited)\n",
    "\n",
    "    return component_list\n",
    "\n",
    "#how_many_components_BFS(G)\n",
    "\n",
    "#print(nx.number_connected_components(G)) # test"
   ]
  },
  {
   "cell_type": "code",
   "execution_count": 4,
   "metadata": {},
   "outputs": [],
   "source": [
    "def DFS(v, g, current):\n",
    "    if current not in v:\n",
    "        v.append(current)\n",
    "        neighbors = g.neighbors(current)\n",
    "        for i in neighbors:\n",
    "            DFS(v, g, i)\n",
    "\n",
    "\n",
    "def how_many_components_DFS(G):\n",
    "    component_list = []\n",
    "\n",
    "    # make a list of all the nodes\n",
    "    graph = list(G.nodes())\n",
    "    \n",
    "    # start the search from the first node\n",
    "    \n",
    "\n",
    "    while graph:\n",
    "        current = graph[0]\n",
    "        visited = []\n",
    "        DFS(visited, G, current)\n",
    "        print(visited)\n",
    "        component_list.append(visited)\n",
    "\n",
    "        for x in visited:\n",
    "            graph.remove(x)\n",
    "\n",
    "    return component_list\n",
    "\n",
    "#print(len(how_many_components_DFS(test_graph2)))\n",
    "#print(len(how_many_components_DFS(test_graph1)))\n",
    "\n",
    "print(len(how_many_components_DFS(G)))"
   ]
  },
  {
   "cell_type": "code",
   "execution_count": 5,
   "metadata": {},
   "outputs": [
    {
     "data": {
      "text/plain": [
       "2"
      ]
     },
     "execution_count": 5,
     "metadata": {},
     "output_type": "execute_result"
    }
   ],
   "source": [
    "def how_many_degrees(G, a, b):\n",
    "    total = [[a,0]]\n",
    "    queue = [(a, 0)]\n",
    "    visited = []\n",
    "    while queue:\n",
    "        node, distance = queue.pop(0)\n",
    "        if node in visited:\n",
    "            continue\n",
    "        visited.append(node)\n",
    "        if node == b:\n",
    "            return distance\n",
    "        for adjacent in G.neighbors(node):\n",
    "            queue.append((adjacent, distance + 1))\n",
    "            total.append([adjacent, distance + 1])\n",
    "\n",
    "    distancedict = {}\n",
    "    for item in total:\n",
    "        node = item[0]\n",
    "        distance = item[1]\n",
    "        if node not in distancedict:\n",
    "            distancedict[node] = distance\n",
    "        elif distance < distancedict[node]:\n",
    "            distancedict[node] = distance\n",
    "\n",
    "    if b in distancedict:\n",
    "        return distancedict[b]\n",
    "\n",
    "\n",
    "how_many_degrees(G, 0, 4704)"
   ]
  },
  {
   "cell_type": "code",
   "execution_count": 7,
   "metadata": {},
   "outputs": [
    {
     "ename": "KeyboardInterrupt",
     "evalue": "",
     "output_type": "error",
     "traceback": [
      "\u001b[1;31m---------------------------------------------------------------------------\u001b[0m",
      "\u001b[1;31mKeyboardInterrupt\u001b[0m                         Traceback (most recent call last)",
      "\u001b[1;32mC:\\Users\\THIJS~1.ROO\\AppData\\Local\\Temp/ipykernel_13804/3358430379.py\u001b[0m in \u001b[0;36m<module>\u001b[1;34m\u001b[0m\n\u001b[0;32m     14\u001b[0m \u001b[1;33m\u001b[0m\u001b[0m\n\u001b[0;32m     15\u001b[0m \u001b[1;33m\u001b[0m\u001b[0m\n\u001b[1;32m---> 16\u001b[1;33m \u001b[0mdiameter\u001b[0m\u001b[1;33m(\u001b[0m\u001b[0mG\u001b[0m\u001b[1;33m)\u001b[0m\u001b[1;33m\u001b[0m\u001b[1;33m\u001b[0m\u001b[0m\n\u001b[0m",
      "\u001b[1;32mC:\\Users\\THIJS~1.ROO\\AppData\\Local\\Temp/ipykernel_13804/3358430379.py\u001b[0m in \u001b[0;36mdiameter\u001b[1;34m(G)\u001b[0m\n\u001b[0;32m      8\u001b[0m         \u001b[1;32mfor\u001b[0m \u001b[0mj\u001b[0m \u001b[1;32min\u001b[0m \u001b[0mgraph\u001b[0m\u001b[1;33m:\u001b[0m\u001b[1;33m\u001b[0m\u001b[1;33m\u001b[0m\u001b[0m\n\u001b[0;32m      9\u001b[0m             \u001b[1;32mif\u001b[0m \u001b[0mj\u001b[0m \u001b[1;32mnot\u001b[0m \u001b[1;32min\u001b[0m \u001b[0mchecked\u001b[0m\u001b[1;33m:\u001b[0m\u001b[1;33m\u001b[0m\u001b[1;33m\u001b[0m\u001b[0m\n\u001b[1;32m---> 10\u001b[1;33m                 \u001b[0mdistances\u001b[0m\u001b[1;33m.\u001b[0m\u001b[0mappend\u001b[0m\u001b[1;33m(\u001b[0m\u001b[0mhow_many_degrees\u001b[0m\u001b[1;33m(\u001b[0m\u001b[0mG\u001b[0m\u001b[1;33m,\u001b[0m \u001b[0mi\u001b[0m\u001b[1;33m,\u001b[0m \u001b[0mj\u001b[0m\u001b[1;33m)\u001b[0m\u001b[1;33m)\u001b[0m\u001b[1;33m\u001b[0m\u001b[1;33m\u001b[0m\u001b[0m\n\u001b[0m\u001b[0;32m     11\u001b[0m \u001b[1;33m\u001b[0m\u001b[0m\n\u001b[0;32m     12\u001b[0m     \u001b[0mdistances\u001b[0m \u001b[1;33m=\u001b[0m \u001b[0mlist\u001b[0m\u001b[1;33m(\u001b[0m\u001b[0mfilter\u001b[0m\u001b[1;33m(\u001b[0m\u001b[1;32mNone\u001b[0m\u001b[1;33m,\u001b[0m \u001b[0mdistances\u001b[0m\u001b[1;33m)\u001b[0m\u001b[1;33m)\u001b[0m\u001b[1;33m\u001b[0m\u001b[1;33m\u001b[0m\u001b[0m\n",
      "\u001b[1;32mC:\\Users\\THIJS~1.ROO\\AppData\\Local\\Temp/ipykernel_13804/2721875701.py\u001b[0m in \u001b[0;36mhow_many_degrees\u001b[1;34m(G, a, b)\u001b[0m\n\u001b[0;32m      3\u001b[0m     \u001b[0mqueue\u001b[0m \u001b[1;33m=\u001b[0m \u001b[1;33m[\u001b[0m\u001b[1;33m(\u001b[0m\u001b[0ma\u001b[0m\u001b[1;33m,\u001b[0m \u001b[1;36m0\u001b[0m\u001b[1;33m)\u001b[0m\u001b[1;33m]\u001b[0m\u001b[1;33m\u001b[0m\u001b[1;33m\u001b[0m\u001b[0m\n\u001b[0;32m      4\u001b[0m     \u001b[0mvisited\u001b[0m \u001b[1;33m=\u001b[0m \u001b[1;33m[\u001b[0m\u001b[1;33m]\u001b[0m\u001b[1;33m\u001b[0m\u001b[1;33m\u001b[0m\u001b[0m\n\u001b[1;32m----> 5\u001b[1;33m     \u001b[1;32mwhile\u001b[0m \u001b[0mqueue\u001b[0m\u001b[1;33m:\u001b[0m\u001b[1;33m\u001b[0m\u001b[1;33m\u001b[0m\u001b[0m\n\u001b[0m\u001b[0;32m      6\u001b[0m         \u001b[0mnode\u001b[0m\u001b[1;33m,\u001b[0m \u001b[0mdistance\u001b[0m \u001b[1;33m=\u001b[0m \u001b[0mqueue\u001b[0m\u001b[1;33m.\u001b[0m\u001b[0mpop\u001b[0m\u001b[1;33m(\u001b[0m\u001b[1;36m0\u001b[0m\u001b[1;33m)\u001b[0m\u001b[1;33m\u001b[0m\u001b[1;33m\u001b[0m\u001b[0m\n\u001b[0;32m      7\u001b[0m         \u001b[1;32mif\u001b[0m \u001b[0mnode\u001b[0m \u001b[1;32min\u001b[0m \u001b[0mvisited\u001b[0m\u001b[1;33m:\u001b[0m\u001b[1;33m\u001b[0m\u001b[1;33m\u001b[0m\u001b[0m\n",
      "\u001b[1;31mKeyboardInterrupt\u001b[0m: "
     ]
    }
   ],
   "source": [
    "def diameter(G):\n",
    "    longest = np.inf\n",
    "    graph = list(G.nodes())\n",
    "    distances = []\n",
    "    checked = []\n",
    "    for i in graph:\n",
    "        checked.append(i)\n",
    "        for j in graph:\n",
    "            if j not in checked:\n",
    "                distances.append(how_many_degrees(G, i, j))\n",
    "\n",
    "    distances = list(filter(None, distances))\n",
    "    return max(distances)\n",
    "\n",
    "\n",
    "diameter(G)"
   ]
  }
 ],
 "metadata": {
  "interpreter": {
   "hash": "75f2b5f72d3623beaa4c42d098f9a3ce20989fcfa059ab0b6cb8689b67bb7aa5"
  },
  "kernelspec": {
   "display_name": "Python 3 (ipykernel)",
   "language": "python",
   "name": "python3"
  },
  "language_info": {
   "codemirror_mode": {
    "name": "ipython",
    "version": 3
   },
   "file_extension": ".py",
   "mimetype": "text/x-python",
   "name": "python",
   "nbconvert_exporter": "python",
   "pygments_lexer": "ipython3",
   "version": "3.8.12"
  }
 },
 "nbformat": 4,
 "nbformat_minor": 2
}
